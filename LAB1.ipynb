{
 "cells": [
  {
   "cell_type": "code",
   "id": "initial_id",
   "metadata": {
    "collapsed": true,
    "ExecuteTime": {
     "end_time": "2024-07-30T05:31:39.605729Z",
     "start_time": "2024-07-30T05:31:39.592926Z"
    }
   },
   "source": [
    "def sum_ten(num_l):\n",
    "    ans_l = []\n",
    "    for i in num_l:\n",
    "        for j in num_l:\n",
    "            if i+j==10:\n",
    "                ans_l.append([i,j])\n",
    "    return ans_l\n"
   ],
   "outputs": [],
   "execution_count": 1
  },
  {
   "metadata": {
    "ExecuteTime": {
     "end_time": "2024-07-30T05:31:51.937775Z",
     "start_time": "2024-07-30T05:31:51.932360Z"
    }
   },
   "cell_type": "code",
   "source": "print(sum_ten([2,7,4,1,3,6]))",
   "id": "49a475277dd919d",
   "outputs": [
    {
     "name": "stdout",
     "output_type": "stream",
     "text": [
      "[[7, 3], [4, 6], [3, 7], [6, 4]]\n"
     ]
    }
   ],
   "execution_count": 2
  },
  {
   "metadata": {
    "ExecuteTime": {
     "end_time": "2024-07-30T05:35:05.960284Z",
     "start_time": "2024-07-30T05:35:05.953832Z"
    }
   },
   "cell_type": "code",
   "source": [
    "def range_l(num_l):\n",
    "    if(len(num_l)<=3):\n",
    "        return \"Range determination not possible\"\n",
    "    return max(num_l)-min(num_l)"
   ],
   "id": "8e5ae98f42eb2124",
   "outputs": [],
   "execution_count": 3
  },
  {
   "metadata": {
    "ExecuteTime": {
     "end_time": "2024-07-30T05:35:34.249663Z",
     "start_time": "2024-07-30T05:35:34.244807Z"
    }
   },
   "cell_type": "code",
   "source": "print(range_l([5,3,8,1,0,4]))",
   "id": "4a5e198aa213f2bd",
   "outputs": [
    {
     "name": "stdout",
     "output_type": "stream",
     "text": [
      "8\n"
     ]
    }
   ],
   "execution_count": 4
  },
  {
   "metadata": {
    "ExecuteTime": {
     "end_time": "2024-07-30T05:44:32.938906Z",
     "start_time": "2024-07-30T05:44:32.933861Z"
    }
   },
   "cell_type": "code",
   "source": [
    "import numpy as np\n",
    "def A_m(num_m,m):\n",
    "    A = np.matrix(num_m)\n",
    "    if A.shape[0]!=A.shape[1]:\n",
    "        return \"Not Square\"\n",
    "    return A**m"
   ],
   "id": "cddcb037469418a",
   "outputs": [],
   "execution_count": 9
  },
  {
   "metadata": {
    "ExecuteTime": {
     "end_time": "2024-07-30T05:55:23.255393Z",
     "start_time": "2024-07-30T05:55:23.246179Z"
    }
   },
   "cell_type": "code",
   "source": "A_m([[1,0],[0,1]],3)",
   "id": "665258f7a0550ed8",
   "outputs": [
    {
     "data": {
      "text/plain": [
       "matrix([[1, 0],\n",
       "        [0, 1]])"
      ]
     },
     "execution_count": 14,
     "metadata": {},
     "output_type": "execute_result"
    }
   ],
   "execution_count": 14
  },
  {
   "metadata": {
    "ExecuteTime": {
     "end_time": "2024-07-30T05:55:41.181369Z",
     "start_time": "2024-07-30T05:55:41.167589Z"
    }
   },
   "cell_type": "code",
   "source": [
    "def occurence_count(word):\n",
    "    ans = {}\n",
    "    for i in word:\n",
    "        if i in ans:\n",
    "           ans[i]+=1\n",
    "        else:\n",
    "            ans[i]=1\n",
    "    max_val = max(ans.values())\n",
    "    max_keys = []\n",
    "    for key in ans:\n",
    "        if ans[key] == max_val:\n",
    "            max_keys.append(key)\n",
    "    return max_keys"
   ],
   "id": "63affd141ac81940",
   "outputs": [],
   "execution_count": 15
  },
  {
   "metadata": {
    "ExecuteTime": {
     "end_time": "2024-07-30T05:58:13.317654Z",
     "start_time": "2024-07-30T05:58:13.308455Z"
    }
   },
   "cell_type": "code",
   "source": "occurence_count(\"hippopotamus\")",
   "id": "6053c612dc927995",
   "outputs": [
    {
     "data": {
      "text/plain": [
       "['p']"
      ]
     },
     "execution_count": 16,
     "metadata": {},
     "output_type": "execute_result"
    }
   ],
   "execution_count": 16
  },
  {
   "metadata": {},
   "cell_type": "code",
   "outputs": [],
   "execution_count": null,
   "source": "",
   "id": "1f8ce4887586a8d9"
  }
 ],
 "metadata": {
  "kernelspec": {
   "display_name": "Python 3",
   "language": "python",
   "name": "python3"
  },
  "language_info": {
   "codemirror_mode": {
    "name": "ipython",
    "version": 2
   },
   "file_extension": ".py",
   "mimetype": "text/x-python",
   "name": "python",
   "nbconvert_exporter": "python",
   "pygments_lexer": "ipython2",
   "version": "2.7.6"
  }
 },
 "nbformat": 4,
 "nbformat_minor": 5
}
